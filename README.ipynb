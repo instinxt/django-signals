{
 "cells": [
  {
   "cell_type": "markdown",
   "metadata": {},
   "source": [
    "**Question 1**: By default are django signals executed synchronously or asynchronously?\n",
    "Please support your answer with a code snippet that conclusively proves your stance.\n",
    "The code does not need to be elegant and production ready, we just need to understand your logic.\n",
    "\n",
    "**Answer**: By default, Django signals are executed synchronously. This means that when a signal is sent, the connected signal handlers are executed immediately and block the sender until they are completed."
   ]
  },
  {
   "cell_type": "code",
   "execution_count": null,
   "metadata": {},
   "outputs": [],
   "source": [
    "from time import sleep\n",
    "from django.contrib.auth.models import User\n",
    "from django.db.models.signals import post_save\n",
    "from django.dispatch import receiver\n",
    "\n",
    "\n",
    "@receiver(post_save, sender=User)\n",
    "def user_saved_handler(sender, instance, **kwargs):\n",
    "    \"\"\"\n",
    "    Signal handler that is called after a User instance is saved.\n",
    "\n",
    "    Args:\n",
    "        sender (Model): The model class that sent the signal.\n",
    "        instance (User): The instance of the model that was saved.\n",
    "        **kwargs: Additional keyword arguments.\n",
    "    \"\"\"\n",
    "    print(\"Signal handler started\")\n",
    "    sleep(5)  # Simulate a delay\n",
    "    print(\"Signal handler finished\")\n",
    "\n",
    "\n",
    "def save_user():\n",
    "    \"\"\"\n",
    "    Create and save a new User instance.\n",
    "\n",
    "    This function simulates saving a User instance\n",
    "    and prints messages before and after the save operation.\n",
    "    \"\"\"\n",
    "    user = User(username=\"test_user\")\n",
    "    print(\"Before saving user\")\n",
    "    user.save()\n",
    "    print(\"After saving user\")\n",
    "\n",
    "save_user()"
   ]
  },
  {
   "cell_type": "markdown",
   "metadata": {},
   "source": [
    "**Question 2**: Do django signals run in the same thread as the caller?\n",
    "Please support your answer with a code snippet that conclusively proves your stance.\n",
    "The code does not need to be elegant and production ready, we just need to understand your logic.\n",
    "\n",
    "**Answer**: Yes, Django signals run in the same thread as the caller by default.\n",
    "This means that the signal handler runs in the same thread that initiated the signal."
   ]
  },
  {
   "cell_type": "code",
   "execution_count": null,
   "metadata": {},
   "outputs": [],
   "source": [
    "import threading\n",
    "from django.contrib.auth.models import User\n",
    "from django.db.models.signals import post_save\n",
    "from django.dispatch import receiver\n",
    "\n",
    "\n",
    "@receiver(post_save, sender=User)\n",
    "def user_saved_handler(sender, instance, **kwargs):\n",
    "    \"\"\"\n",
    "    Signal handler that is called after a User instance is saved.\n",
    "\n",
    "    Args:\n",
    "        sender (Model): The model class that sent the signal.\n",
    "        instance (User): The instance of the model that was saved.\n",
    "        **kwargs: Additional keyword arguments.\n",
    "    \"\"\"\n",
    "    print(f\"Signal handler thread ID: {threading.get_ident()}\")\n",
    "\n",
    "\n",
    "def save_user():\n",
    "    \"\"\"\n",
    "    Create and save a new User instance.\n",
    "\n",
    "    This function simulates saving a User instance and\n",
    "    prints the thread ID of the caller before saving.\n",
    "    \"\"\"\n",
    "    user = User(username=\"test_user\")\n",
    "    print(f\"Caller thread ID: {threading.get_ident()}\")\n",
    "    user.save()\n",
    "\n",
    "save_user()"
   ]
  },
  {
   "cell_type": "markdown",
   "metadata": {},
   "source": [
    "**Question 3**: By default do django signals run in the same database transaction as the caller? \n",
    "Please support your answer with a code snippet that conclusively proves your stance. \n",
    "The code does not need to be elegant and production ready, we just need to understand your logic.\n",
    "\n",
    "**Answer**: Yes, by default, Django signals run in the same database transaction as the caller. Specifically, signals like `post_save` and `post_delete` are executed after the changes have been made in the database, within the same transaction. If an exception is raised in the signal handler, it will not affect the already committed database changes, whereas the `pre_save` and `pre_delete` signals occur before the transaction is committed. To conclusively prove that Django signals run in the same transaction, you can use a signal handler that raises an exception and verify whether the database changes are rolled back. Here, we'll use a `post_save` signal."
   ]
  },
  {
   "cell_type": "code",
   "execution_count": null,
   "metadata": {},
   "outputs": [],
   "source": [
    "from django.db import transaction, IntegrityError\n",
    "from django.db.models.signals import post_save\n",
    "from django.dispatch import receiver\n",
    "from django.contrib.auth.models import User\n",
    "\n",
    "\n",
    "@receiver(post_save, sender=User)\n",
    "def user_saved_handler(sender, instance, **kwargs):\n",
    "    \"\"\"\n",
    "    Signal handler that is called after a User instance is saved.\n",
    "\n",
    "    Args:\n",
    "        sender (Model): The model class that sent the signal.\n",
    "        instance (User): The instance of the model that was saved.\n",
    "        **kwargs: Additional keyword arguments.\n",
    "\n",
    "    Raises:\n",
    "        Exception: Simulates an error in the signal handler.\n",
    "    \"\"\"\n",
    "    print(\"Signal handler started\")\n",
    "    raise Exception(\"Exception in signal handler\")\n",
    "\n",
    "\n",
    "def save_user():\n",
    "    \"\"\"\n",
    "    Create and save a new User instance within a transaction.\n",
    "\n",
    "    This function attempts to create and save a User instance\n",
    "    inside an atomic transaction. If an exception is raised, it\n",
    "    catches the exception and prints an error message.\n",
    "    \"\"\"\n",
    "    try:\n",
    "        with transaction.atomic():\n",
    "            user = User.objects.create(username=\"test_user\")\n",
    "            print(f\"User saved with ID: {user.id}\")\n",
    "    except Exception as e:\n",
    "        print(f\"Exception caught: {e}\")\n",
    "\n",
    "save_user()\n",
    "\n",
    "user_exists = User.objects.filter(username=\"test_user\").exists()\n",
    "print(f\"User exists after transaction: {user_exists}\")"
   ]
  },
  {
   "cell_type": "markdown",
   "metadata": {},
   "source": [
    "**Topic: Custom Classes in Python**\n",
    "\n",
    "***Description***: You are tasked with creating a Rectangle class with the following requirements:\n",
    "\n",
    "- An instance of the `Rectangle` class requires `length:int` and `width:int` to be initialized.\n",
    "- We can iterate over an instance of the `Rectangle class` \n",
    "- When an instance of the Rectangle class is iterated over, we first get its length in the format: {'length': <VALUE_OF_LENGTH>} followed by the width {width: <VALUE_OF_WIDTH>}"
   ]
  },
  {
   "cell_type": "code",
   "execution_count": 1,
   "metadata": {},
   "outputs": [
    {
     "name": "stdout",
     "output_type": "stream",
     "text": [
      "{'length': 10}\n",
      "{'width': 5}\n"
     ]
    }
   ],
   "source": [
    "class Rectangle:\n",
    "    def __init__(self, length: int, width: int):\n",
    "        self.length = length\n",
    "        self.width = width\n",
    "\n",
    "    def __iter__(self):\n",
    "        yield {\"length\": self.length}\n",
    "        yield {\"width\": self.width}\n",
    "\n",
    "\n",
    "rectangle = Rectangle(10, 5)\n",
    "\n",
    "for dimension in rectangle:\n",
    "    print(dimension)"
   ]
  }
 ],
 "metadata": {
  "kernelspec": {
   "display_name": "Python 3",
   "language": "python",
   "name": "python3"
  },
  "language_info": {
   "codemirror_mode": {
    "name": "ipython",
    "version": 3
   },
   "file_extension": ".py",
   "mimetype": "text/x-python",
   "name": "python",
   "nbconvert_exporter": "python",
   "pygments_lexer": "ipython3",
   "version": "3.10.9"
  }
 },
 "nbformat": 4,
 "nbformat_minor": 2
}
